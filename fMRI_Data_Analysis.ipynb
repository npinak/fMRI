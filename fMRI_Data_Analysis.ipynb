{
  "nbformat": 4,
  "nbformat_minor": 0,
  "metadata": {
    "colab": {
      "name": "fMRI_Data-Analysis.ipynb",
      "provenance": [],
      "collapsed_sections": []
    },
    "kernelspec": {
      "name": "python3",
      "display_name": "Python 3"
    },
    "language_info": {
      "name": "python"
    }
  },
  "cells": [
    {
      "cell_type": "markdown",
      "metadata": {
        "id": "Fw03aBLzH0ak"
      },
      "source": [
        "**fMRI Preprocessing**"
      ]
    },
    {
      "cell_type": "markdown",
      "metadata": {
        "id": "xM1oaD1pIdPV"
      },
      "source": [
        "- Converted DICOM images to NIfTI files.\n",
        "- Used SPM and R to preprocess fMRI data by correcting for slice timing, realigning to compensate for head motion, co-registering the fMRI data to a MP-RAGE image using a rigid body transformation, spatially normalizing the co-registered images to a T1 template, applying gaussian spatial smoothing, segmentation on the anatomical image, and finally bias field correction.\n",
        "- Used script to preprocess data from multiple subjects automatically.\n"
      ]
    },
    {
      "cell_type": "markdown",
      "metadata": {
        "id": "rGeGa-eLHs_3"
      },
      "source": [
        "**fMRI Analysis**"
      ]
    },
    {
      "cell_type": "markdown",
      "metadata": {
        "id": "sNh5jU3YGpu_"
      },
      "source": [
        "- Used SPM to create a GLM to model BOLD responses obtained from a subject performing the “flanker” task. \n",
        "   \n",
        "    - Defined contrasts to find differences in brain activation between “incongruent” and “congruent” trials. \n",
        "   \n",
        "    - Results showed a significant clusters in the medial prefrontal cortex and anterior cingulate cortex. \n",
        "\n",
        "- Used SPM to run a group-level analysis on the flanker task. \n",
        "\n",
        "    - Defined contrasts to show differences in brain activation between incongruent and congruent trials at a group level.\n",
        "\n",
        "    - Results showed a significant cluster in the dorsal medial prefrontal cortex. \n",
        "\n",
        "- Used SPM to run a region of interest analysis. \n",
        "\n",
        "    - Used WFU PickAtlas (Atlas ROI) and Marsbar (Spherical ROI) to define region of interest (dorsal anterior cingulate cortex).\n",
        "\n",
        "    - Extracted mean contrast estimates for incongruent and congruent and entered the means into a paired-samples t-test. \n",
        "\n",
        "    - Spherical ROI showed significant activation in the dACC. Atlas ROI did not show significant activation in the dACC. \n"
      ]
    },
    {
      "cell_type": "markdown",
      "metadata": {
        "id": "RMKM3fjZKqM-"
      },
      "source": [
        "**fMRI Multi-Voxel Pattern Analysis**"
      ]
    },
    {
      "cell_type": "markdown",
      "metadata": {
        "id": "Sr2ODwe2K4a8"
      },
      "source": [
        "- Used AFNI to train an algorithm to determine whether a person saw a House, Face, Car, or a Shoe based on a beta map that it was given.\n",
        "  - Generated betas, created training set, and created testing set for each category\n",
        "  - Created brain mask to test specific areas and tested algorithm. \n"
      ]
    }
  ]
}